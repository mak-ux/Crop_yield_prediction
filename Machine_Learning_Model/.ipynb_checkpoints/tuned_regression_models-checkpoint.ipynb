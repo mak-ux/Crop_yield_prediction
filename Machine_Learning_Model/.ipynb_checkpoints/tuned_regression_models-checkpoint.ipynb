{
 "cells": [
  {
   "cell_type": "code",
   "execution_count": 1,
   "metadata": {},
   "outputs": [],
   "source": [
    "# Importing the libraries\n",
    "import numpy as np\n",
    "import matplotlib.pyplot as plt\n",
    "import pandas as pd"
   ]
  },
  {
   "cell_type": "code",
   "execution_count": 2,
   "metadata": {},
   "outputs": [
    {
     "data": {
      "text/html": [
       "<div>\n",
       "<style scoped>\n",
       "    .dataframe tbody tr th:only-of-type {\n",
       "        vertical-align: middle;\n",
       "    }\n",
       "\n",
       "    .dataframe tbody tr th {\n",
       "        vertical-align: top;\n",
       "    }\n",
       "\n",
       "    .dataframe thead th {\n",
       "        text-align: right;\n",
       "    }\n",
       "</style>\n",
       "<table border=\"1\" class=\"dataframe\">\n",
       "  <thead>\n",
       "    <tr style=\"text-align: right;\">\n",
       "      <th></th>\n",
       "      <th>CountyName</th>\n",
       "      <th>State</th>\n",
       "      <th>Latitude</th>\n",
       "      <th>Longitude</th>\n",
       "      <th>Date</th>\n",
       "      <th>apparentTemperatureMax</th>\n",
       "      <th>apparentTemperatureMin</th>\n",
       "      <th>cloudCover</th>\n",
       "      <th>dewPoint</th>\n",
       "      <th>humidity</th>\n",
       "      <th>...</th>\n",
       "      <th>precipTypeIsOther</th>\n",
       "      <th>pressure</th>\n",
       "      <th>temperatureMax</th>\n",
       "      <th>temperatureMin</th>\n",
       "      <th>visibility</th>\n",
       "      <th>windBearing</th>\n",
       "      <th>windSpeed</th>\n",
       "      <th>NDVI</th>\n",
       "      <th>DayInSeason</th>\n",
       "      <th>Yield</th>\n",
       "    </tr>\n",
       "  </thead>\n",
       "  <tbody>\n",
       "    <tr>\n",
       "      <th>0</th>\n",
       "      <td>Adams</td>\n",
       "      <td>Washington</td>\n",
       "      <td>46.929839</td>\n",
       "      <td>-118.352109</td>\n",
       "      <td>11/30/2014 0:00</td>\n",
       "      <td>18.61</td>\n",
       "      <td>-3.01</td>\n",
       "      <td>0.00</td>\n",
       "      <td>6.77</td>\n",
       "      <td>0.69</td>\n",
       "      <td>...</td>\n",
       "      <td>0</td>\n",
       "      <td>1027.95</td>\n",
       "      <td>23.93</td>\n",
       "      <td>6.96</td>\n",
       "      <td>10.00</td>\n",
       "      <td>9</td>\n",
       "      <td>3.80</td>\n",
       "      <td>136.179718</td>\n",
       "      <td>0</td>\n",
       "      <td>35.6</td>\n",
       "    </tr>\n",
       "    <tr>\n",
       "      <th>1</th>\n",
       "      <td>Adams</td>\n",
       "      <td>Washington</td>\n",
       "      <td>47.150327</td>\n",
       "      <td>-118.958859</td>\n",
       "      <td>11/30/2014 0:00</td>\n",
       "      <td>19.67</td>\n",
       "      <td>-0.74</td>\n",
       "      <td>0.00</td>\n",
       "      <td>6.66</td>\n",
       "      <td>0.65</td>\n",
       "      <td>...</td>\n",
       "      <td>0</td>\n",
       "      <td>1028.26</td>\n",
       "      <td>25.88</td>\n",
       "      <td>8.71</td>\n",
       "      <td>10.00</td>\n",
       "      <td>352</td>\n",
       "      <td>6.03</td>\n",
       "      <td>135.697540</td>\n",
       "      <td>0</td>\n",
       "      <td>35.6</td>\n",
       "    </tr>\n",
       "    <tr>\n",
       "      <th>2</th>\n",
       "      <td>Adams</td>\n",
       "      <td>Washington</td>\n",
       "      <td>46.811686</td>\n",
       "      <td>-118.695237</td>\n",
       "      <td>11/30/2014 0:00</td>\n",
       "      <td>20.66</td>\n",
       "      <td>-0.14</td>\n",
       "      <td>0.00</td>\n",
       "      <td>6.55</td>\n",
       "      <td>0.67</td>\n",
       "      <td>...</td>\n",
       "      <td>0</td>\n",
       "      <td>1028.29</td>\n",
       "      <td>24.67</td>\n",
       "      <td>8.26</td>\n",
       "      <td>10.00</td>\n",
       "      <td>25</td>\n",
       "      <td>3.59</td>\n",
       "      <td>135.676956</td>\n",
       "      <td>0</td>\n",
       "      <td>35.6</td>\n",
       "    </tr>\n",
       "    <tr>\n",
       "      <th>3</th>\n",
       "      <td>Adams</td>\n",
       "      <td>Washington</td>\n",
       "      <td>47.162342</td>\n",
       "      <td>-118.699677</td>\n",
       "      <td>11/30/2014 0:00</td>\n",
       "      <td>19.69</td>\n",
       "      <td>-2.66</td>\n",
       "      <td>0.03</td>\n",
       "      <td>7.32</td>\n",
       "      <td>0.69</td>\n",
       "      <td>...</td>\n",
       "      <td>0</td>\n",
       "      <td>1027.74</td>\n",
       "      <td>25.48</td>\n",
       "      <td>8.10</td>\n",
       "      <td>10.00</td>\n",
       "      <td>1</td>\n",
       "      <td>5.18</td>\n",
       "      <td>135.005798</td>\n",
       "      <td>0</td>\n",
       "      <td>35.6</td>\n",
       "    </tr>\n",
       "    <tr>\n",
       "      <th>4</th>\n",
       "      <td>Adams</td>\n",
       "      <td>Washington</td>\n",
       "      <td>47.157512</td>\n",
       "      <td>-118.434056</td>\n",
       "      <td>11/30/2014 0:00</td>\n",
       "      <td>18.82</td>\n",
       "      <td>-3.04</td>\n",
       "      <td>0.04</td>\n",
       "      <td>7.62</td>\n",
       "      <td>0.70</td>\n",
       "      <td>...</td>\n",
       "      <td>0</td>\n",
       "      <td>1027.16</td>\n",
       "      <td>24.83</td>\n",
       "      <td>8.32</td>\n",
       "      <td>9.99</td>\n",
       "      <td>5</td>\n",
       "      <td>4.69</td>\n",
       "      <td>134.803864</td>\n",
       "      <td>0</td>\n",
       "      <td>35.6</td>\n",
       "    </tr>\n",
       "  </tbody>\n",
       "</table>\n",
       "<p>5 rows × 26 columns</p>\n",
       "</div>"
      ],
      "text/plain": [
       "  CountyName       State   Latitude   Longitude             Date  \\\n",
       "0      Adams  Washington  46.929839 -118.352109  11/30/2014 0:00   \n",
       "1      Adams  Washington  47.150327 -118.958859  11/30/2014 0:00   \n",
       "2      Adams  Washington  46.811686 -118.695237  11/30/2014 0:00   \n",
       "3      Adams  Washington  47.162342 -118.699677  11/30/2014 0:00   \n",
       "4      Adams  Washington  47.157512 -118.434056  11/30/2014 0:00   \n",
       "\n",
       "   apparentTemperatureMax  apparentTemperatureMin  cloudCover  dewPoint  \\\n",
       "0                   18.61                   -3.01        0.00      6.77   \n",
       "1                   19.67                   -0.74        0.00      6.66   \n",
       "2                   20.66                   -0.14        0.00      6.55   \n",
       "3                   19.69                   -2.66        0.03      7.32   \n",
       "4                   18.82                   -3.04        0.04      7.62   \n",
       "\n",
       "   humidity  ...  precipTypeIsOther  pressure  temperatureMax  temperatureMin  \\\n",
       "0      0.69  ...                  0   1027.95           23.93            6.96   \n",
       "1      0.65  ...                  0   1028.26           25.88            8.71   \n",
       "2      0.67  ...                  0   1028.29           24.67            8.26   \n",
       "3      0.69  ...                  0   1027.74           25.48            8.10   \n",
       "4      0.70  ...                  0   1027.16           24.83            8.32   \n",
       "\n",
       "   visibility  windBearing  windSpeed        NDVI  DayInSeason  Yield  \n",
       "0       10.00            9       3.80  136.179718            0   35.6  \n",
       "1       10.00          352       6.03  135.697540            0   35.6  \n",
       "2       10.00           25       3.59  135.676956            0   35.6  \n",
       "3       10.00            1       5.18  135.005798            0   35.6  \n",
       "4        9.99            5       4.69  134.803864            0   35.6  \n",
       "\n",
       "[5 rows x 26 columns]"
      ]
     },
     "execution_count": 2,
     "metadata": {},
     "output_type": "execute_result"
    }
   ],
   "source": [
    "# Importing the dataset\n",
    "df = pd.read_csv('data.csv')\n",
    "df.head()"
   ]
  },
  {
   "cell_type": "code",
   "execution_count": 3,
   "metadata": {},
   "outputs": [
    {
     "data": {
      "text/plain": [
       "(182549, 26)"
      ]
     },
     "execution_count": 3,
     "metadata": {},
     "output_type": "execute_result"
    }
   ],
   "source": [
    "df.shape"
   ]
  },
  {
   "cell_type": "code",
   "execution_count": 4,
   "metadata": {},
   "outputs": [],
   "source": [
    "# drop unwanted columns.\n",
    "df = df.drop(['CountyName'], axis=1)\n",
    "df = df.drop(['State'], axis=1)\n",
    "df = df.drop(['Date'], axis=1)\n",
    "df = df.drop(['cloudCover'], axis=1)\n",
    "df = df.drop(['dewPoint'], axis=1)\n",
    "df = df.drop(['precipIntensity'], axis=1)\n"
   ]
  },
  {
   "cell_type": "code",
   "execution_count": 5,
   "metadata": {},
   "outputs": [],
   "source": [
    "df = df.drop(['precipIntensityMax'], axis=1)\n",
    "df = df.drop(['precipProbability'], axis=1)\n",
    "df = df.drop(['precipAccumulation'], axis=1)\n",
    "df = df.drop(['precipTypeIsRain'], axis=1)\n",
    "df = df.drop(['precipTypeIsSnow'], axis=1)\n",
    "df = df.drop(['precipTypeIsOther'], axis=1)\n"
   ]
  },
  {
   "cell_type": "code",
   "execution_count": 6,
   "metadata": {},
   "outputs": [
    {
     "data": {
      "text/html": [
       "<div>\n",
       "<style scoped>\n",
       "    .dataframe tbody tr th:only-of-type {\n",
       "        vertical-align: middle;\n",
       "    }\n",
       "\n",
       "    .dataframe tbody tr th {\n",
       "        vertical-align: top;\n",
       "    }\n",
       "\n",
       "    .dataframe thead th {\n",
       "        text-align: right;\n",
       "    }\n",
       "</style>\n",
       "<table border=\"1\" class=\"dataframe\">\n",
       "  <thead>\n",
       "    <tr style=\"text-align: right;\">\n",
       "      <th></th>\n",
       "      <th>Latitude</th>\n",
       "      <th>Longitude</th>\n",
       "      <th>apparentTemperatureMax</th>\n",
       "      <th>apparentTemperatureMin</th>\n",
       "      <th>humidity</th>\n",
       "      <th>pressure</th>\n",
       "      <th>temperatureMax</th>\n",
       "      <th>temperatureMin</th>\n",
       "      <th>visibility</th>\n",
       "      <th>windBearing</th>\n",
       "      <th>windSpeed</th>\n",
       "      <th>NDVI</th>\n",
       "      <th>DayInSeason</th>\n",
       "      <th>Yield</th>\n",
       "    </tr>\n",
       "  </thead>\n",
       "  <tbody>\n",
       "    <tr>\n",
       "      <th>0</th>\n",
       "      <td>46.929839</td>\n",
       "      <td>-118.352109</td>\n",
       "      <td>18.61</td>\n",
       "      <td>-3.01</td>\n",
       "      <td>0.69</td>\n",
       "      <td>1027.95</td>\n",
       "      <td>23.93</td>\n",
       "      <td>6.96</td>\n",
       "      <td>10.00</td>\n",
       "      <td>9</td>\n",
       "      <td>3.80</td>\n",
       "      <td>136.179718</td>\n",
       "      <td>0</td>\n",
       "      <td>35.6</td>\n",
       "    </tr>\n",
       "    <tr>\n",
       "      <th>1</th>\n",
       "      <td>47.150327</td>\n",
       "      <td>-118.958859</td>\n",
       "      <td>19.67</td>\n",
       "      <td>-0.74</td>\n",
       "      <td>0.65</td>\n",
       "      <td>1028.26</td>\n",
       "      <td>25.88</td>\n",
       "      <td>8.71</td>\n",
       "      <td>10.00</td>\n",
       "      <td>352</td>\n",
       "      <td>6.03</td>\n",
       "      <td>135.697540</td>\n",
       "      <td>0</td>\n",
       "      <td>35.6</td>\n",
       "    </tr>\n",
       "    <tr>\n",
       "      <th>2</th>\n",
       "      <td>46.811686</td>\n",
       "      <td>-118.695237</td>\n",
       "      <td>20.66</td>\n",
       "      <td>-0.14</td>\n",
       "      <td>0.67</td>\n",
       "      <td>1028.29</td>\n",
       "      <td>24.67</td>\n",
       "      <td>8.26</td>\n",
       "      <td>10.00</td>\n",
       "      <td>25</td>\n",
       "      <td>3.59</td>\n",
       "      <td>135.676956</td>\n",
       "      <td>0</td>\n",
       "      <td>35.6</td>\n",
       "    </tr>\n",
       "    <tr>\n",
       "      <th>3</th>\n",
       "      <td>47.162342</td>\n",
       "      <td>-118.699677</td>\n",
       "      <td>19.69</td>\n",
       "      <td>-2.66</td>\n",
       "      <td>0.69</td>\n",
       "      <td>1027.74</td>\n",
       "      <td>25.48</td>\n",
       "      <td>8.10</td>\n",
       "      <td>10.00</td>\n",
       "      <td>1</td>\n",
       "      <td>5.18</td>\n",
       "      <td>135.005798</td>\n",
       "      <td>0</td>\n",
       "      <td>35.6</td>\n",
       "    </tr>\n",
       "    <tr>\n",
       "      <th>4</th>\n",
       "      <td>47.157512</td>\n",
       "      <td>-118.434056</td>\n",
       "      <td>18.82</td>\n",
       "      <td>-3.04</td>\n",
       "      <td>0.70</td>\n",
       "      <td>1027.16</td>\n",
       "      <td>24.83</td>\n",
       "      <td>8.32</td>\n",
       "      <td>9.99</td>\n",
       "      <td>5</td>\n",
       "      <td>4.69</td>\n",
       "      <td>134.803864</td>\n",
       "      <td>0</td>\n",
       "      <td>35.6</td>\n",
       "    </tr>\n",
       "  </tbody>\n",
       "</table>\n",
       "</div>"
      ],
      "text/plain": [
       "    Latitude   Longitude  apparentTemperatureMax  apparentTemperatureMin  \\\n",
       "0  46.929839 -118.352109                   18.61                   -3.01   \n",
       "1  47.150327 -118.958859                   19.67                   -0.74   \n",
       "2  46.811686 -118.695237                   20.66                   -0.14   \n",
       "3  47.162342 -118.699677                   19.69                   -2.66   \n",
       "4  47.157512 -118.434056                   18.82                   -3.04   \n",
       "\n",
       "   humidity  pressure  temperatureMax  temperatureMin  visibility  \\\n",
       "0      0.69   1027.95           23.93            6.96       10.00   \n",
       "1      0.65   1028.26           25.88            8.71       10.00   \n",
       "2      0.67   1028.29           24.67            8.26       10.00   \n",
       "3      0.69   1027.74           25.48            8.10       10.00   \n",
       "4      0.70   1027.16           24.83            8.32        9.99   \n",
       "\n",
       "   windBearing  windSpeed        NDVI  DayInSeason  Yield  \n",
       "0            9       3.80  136.179718            0   35.6  \n",
       "1          352       6.03  135.697540            0   35.6  \n",
       "2           25       3.59  135.676956            0   35.6  \n",
       "3            1       5.18  135.005798            0   35.6  \n",
       "4            5       4.69  134.803864            0   35.6  "
      ]
     },
     "execution_count": 6,
     "metadata": {},
     "output_type": "execute_result"
    }
   ],
   "source": [
    "df.head()"
   ]
  },
  {
   "cell_type": "code",
   "execution_count": 7,
   "metadata": {},
   "outputs": [],
   "source": [
    "df = df.drop(['visibility'], axis=1)\n",
    "df = df.drop(['windBearing'], axis=1)\n",
    "df = df.drop(['windSpeed'], axis=1)\n",
    "df = df.drop(['NDVI'], axis=1)\n",
    "df = df.drop(['DayInSeason'], axis=1)\n",
    "\n"
   ]
  },
  {
   "cell_type": "code",
   "execution_count": 8,
   "metadata": {},
   "outputs": [
    {
     "data": {
      "text/html": [
       "<div>\n",
       "<style scoped>\n",
       "    .dataframe tbody tr th:only-of-type {\n",
       "        vertical-align: middle;\n",
       "    }\n",
       "\n",
       "    .dataframe tbody tr th {\n",
       "        vertical-align: top;\n",
       "    }\n",
       "\n",
       "    .dataframe thead th {\n",
       "        text-align: right;\n",
       "    }\n",
       "</style>\n",
       "<table border=\"1\" class=\"dataframe\">\n",
       "  <thead>\n",
       "    <tr style=\"text-align: right;\">\n",
       "      <th></th>\n",
       "      <th>Latitude</th>\n",
       "      <th>Longitude</th>\n",
       "      <th>apparentTemperatureMax</th>\n",
       "      <th>apparentTemperatureMin</th>\n",
       "      <th>humidity</th>\n",
       "      <th>pressure</th>\n",
       "      <th>temperatureMax</th>\n",
       "      <th>temperatureMin</th>\n",
       "      <th>Yield</th>\n",
       "    </tr>\n",
       "  </thead>\n",
       "  <tbody>\n",
       "    <tr>\n",
       "      <th>0</th>\n",
       "      <td>46.929839</td>\n",
       "      <td>-118.352109</td>\n",
       "      <td>18.61</td>\n",
       "      <td>-3.01</td>\n",
       "      <td>0.69</td>\n",
       "      <td>1027.95</td>\n",
       "      <td>23.93</td>\n",
       "      <td>6.96</td>\n",
       "      <td>35.6</td>\n",
       "    </tr>\n",
       "    <tr>\n",
       "      <th>1</th>\n",
       "      <td>47.150327</td>\n",
       "      <td>-118.958859</td>\n",
       "      <td>19.67</td>\n",
       "      <td>-0.74</td>\n",
       "      <td>0.65</td>\n",
       "      <td>1028.26</td>\n",
       "      <td>25.88</td>\n",
       "      <td>8.71</td>\n",
       "      <td>35.6</td>\n",
       "    </tr>\n",
       "    <tr>\n",
       "      <th>2</th>\n",
       "      <td>46.811686</td>\n",
       "      <td>-118.695237</td>\n",
       "      <td>20.66</td>\n",
       "      <td>-0.14</td>\n",
       "      <td>0.67</td>\n",
       "      <td>1028.29</td>\n",
       "      <td>24.67</td>\n",
       "      <td>8.26</td>\n",
       "      <td>35.6</td>\n",
       "    </tr>\n",
       "    <tr>\n",
       "      <th>3</th>\n",
       "      <td>47.162342</td>\n",
       "      <td>-118.699677</td>\n",
       "      <td>19.69</td>\n",
       "      <td>-2.66</td>\n",
       "      <td>0.69</td>\n",
       "      <td>1027.74</td>\n",
       "      <td>25.48</td>\n",
       "      <td>8.10</td>\n",
       "      <td>35.6</td>\n",
       "    </tr>\n",
       "    <tr>\n",
       "      <th>4</th>\n",
       "      <td>47.157512</td>\n",
       "      <td>-118.434056</td>\n",
       "      <td>18.82</td>\n",
       "      <td>-3.04</td>\n",
       "      <td>0.70</td>\n",
       "      <td>1027.16</td>\n",
       "      <td>24.83</td>\n",
       "      <td>8.32</td>\n",
       "      <td>35.6</td>\n",
       "    </tr>\n",
       "  </tbody>\n",
       "</table>\n",
       "</div>"
      ],
      "text/plain": [
       "    Latitude   Longitude  apparentTemperatureMax  apparentTemperatureMin  \\\n",
       "0  46.929839 -118.352109                   18.61                   -3.01   \n",
       "1  47.150327 -118.958859                   19.67                   -0.74   \n",
       "2  46.811686 -118.695237                   20.66                   -0.14   \n",
       "3  47.162342 -118.699677                   19.69                   -2.66   \n",
       "4  47.157512 -118.434056                   18.82                   -3.04   \n",
       "\n",
       "   humidity  pressure  temperatureMax  temperatureMin  Yield  \n",
       "0      0.69   1027.95           23.93            6.96   35.6  \n",
       "1      0.65   1028.26           25.88            8.71   35.6  \n",
       "2      0.67   1028.29           24.67            8.26   35.6  \n",
       "3      0.69   1027.74           25.48            8.10   35.6  \n",
       "4      0.70   1027.16           24.83            8.32   35.6  "
      ]
     },
     "execution_count": 8,
     "metadata": {},
     "output_type": "execute_result"
    }
   ],
   "source": [
    "df.head()"
   ]
  },
  {
   "cell_type": "code",
   "execution_count": 9,
   "metadata": {},
   "outputs": [
    {
     "data": {
      "text/html": [
       "<div>\n",
       "<style scoped>\n",
       "    .dataframe tbody tr th:only-of-type {\n",
       "        vertical-align: middle;\n",
       "    }\n",
       "\n",
       "    .dataframe tbody tr th {\n",
       "        vertical-align: top;\n",
       "    }\n",
       "\n",
       "    .dataframe thead th {\n",
       "        text-align: right;\n",
       "    }\n",
       "</style>\n",
       "<table border=\"1\" class=\"dataframe\">\n",
       "  <thead>\n",
       "    <tr style=\"text-align: right;\">\n",
       "      <th></th>\n",
       "      <th>Latitude</th>\n",
       "      <th>Longitude</th>\n",
       "      <th>ATMAX</th>\n",
       "      <th>ATMIN</th>\n",
       "      <th>humidity</th>\n",
       "      <th>pressure</th>\n",
       "      <th>tempmax</th>\n",
       "      <th>tempmin</th>\n",
       "      <th>Yield</th>\n",
       "    </tr>\n",
       "  </thead>\n",
       "  <tbody>\n",
       "    <tr>\n",
       "      <th>0</th>\n",
       "      <td>46.929839</td>\n",
       "      <td>-118.352109</td>\n",
       "      <td>18.61</td>\n",
       "      <td>-3.01</td>\n",
       "      <td>0.69</td>\n",
       "      <td>1027.95</td>\n",
       "      <td>23.93</td>\n",
       "      <td>6.96</td>\n",
       "      <td>35.6</td>\n",
       "    </tr>\n",
       "    <tr>\n",
       "      <th>1</th>\n",
       "      <td>47.150327</td>\n",
       "      <td>-118.958859</td>\n",
       "      <td>19.67</td>\n",
       "      <td>-0.74</td>\n",
       "      <td>0.65</td>\n",
       "      <td>1028.26</td>\n",
       "      <td>25.88</td>\n",
       "      <td>8.71</td>\n",
       "      <td>35.6</td>\n",
       "    </tr>\n",
       "    <tr>\n",
       "      <th>2</th>\n",
       "      <td>46.811686</td>\n",
       "      <td>-118.695237</td>\n",
       "      <td>20.66</td>\n",
       "      <td>-0.14</td>\n",
       "      <td>0.67</td>\n",
       "      <td>1028.29</td>\n",
       "      <td>24.67</td>\n",
       "      <td>8.26</td>\n",
       "      <td>35.6</td>\n",
       "    </tr>\n",
       "    <tr>\n",
       "      <th>3</th>\n",
       "      <td>47.162342</td>\n",
       "      <td>-118.699677</td>\n",
       "      <td>19.69</td>\n",
       "      <td>-2.66</td>\n",
       "      <td>0.69</td>\n",
       "      <td>1027.74</td>\n",
       "      <td>25.48</td>\n",
       "      <td>8.10</td>\n",
       "      <td>35.6</td>\n",
       "    </tr>\n",
       "    <tr>\n",
       "      <th>4</th>\n",
       "      <td>47.157512</td>\n",
       "      <td>-118.434056</td>\n",
       "      <td>18.82</td>\n",
       "      <td>-3.04</td>\n",
       "      <td>0.70</td>\n",
       "      <td>1027.16</td>\n",
       "      <td>24.83</td>\n",
       "      <td>8.32</td>\n",
       "      <td>35.6</td>\n",
       "    </tr>\n",
       "  </tbody>\n",
       "</table>\n",
       "</div>"
      ],
      "text/plain": [
       "    Latitude   Longitude  ATMAX  ATMIN  humidity  pressure  tempmax  tempmin  \\\n",
       "0  46.929839 -118.352109  18.61  -3.01      0.69   1027.95    23.93     6.96   \n",
       "1  47.150327 -118.958859  19.67  -0.74      0.65   1028.26    25.88     8.71   \n",
       "2  46.811686 -118.695237  20.66  -0.14      0.67   1028.29    24.67     8.26   \n",
       "3  47.162342 -118.699677  19.69  -2.66      0.69   1027.74    25.48     8.10   \n",
       "4  47.157512 -118.434056  18.82  -3.04      0.70   1027.16    24.83     8.32   \n",
       "\n",
       "   Yield  \n",
       "0   35.6  \n",
       "1   35.6  \n",
       "2   35.6  \n",
       "3   35.6  \n",
       "4   35.6  "
      ]
     },
     "execution_count": 9,
     "metadata": {},
     "output_type": "execute_result"
    }
   ],
   "source": [
    "# rename columns.\n",
    "df = df.rename(index=str, columns={\"apparentTemperatureMax\":\"ATMAX\"})\n",
    "df = df.rename(index=str, columns={\"apparentTemperatureMin\":\"ATMIN\"})\n",
    "df = df.rename(index=str, columns={\"temperatureMax\":\"tempmax\"})\n",
    "df = df.rename(index=str, columns={\"temperatureMin\":\"tempmin\"})\n",
    "df.head()"
   ]
  },
  {
   "cell_type": "code",
   "execution_count": 10,
   "metadata": {},
   "outputs": [],
   "source": [
    "import seaborn as sns\n",
    "%matplotlib inline"
   ]
  },
  {
   "cell_type": "code",
   "execution_count": 12,
   "metadata": {},
   "outputs": [
    {
     "name": "stderr",
     "output_type": "stream",
     "text": [
      "/home/kanhaiya/anaconda3/lib/python3.7/site-packages/seaborn/axisgrid.py:2079: UserWarning: The `size` parameter has been renamed to `height`; please update your code.\n",
      "  warnings.warn(msg, UserWarning)\n"
     ]
    },
    {
     "data": {
      "text/plain": [
       "<seaborn.axisgrid.PairGrid at 0x7fdc11ee1190>"
      ]
     },
     "execution_count": 12,
     "metadata": {},
     "output_type": "execute_result"
    },
    {
     "data": {
      "image/png": "[encoded data removed]",
      "text/plain": [
       "<Figure size 2822.4x504 with 8 Axes>"
      ]
     },
     "metadata": {
      "needs_background": "light"
     },
     "output_type": "display_data"
    }
   ],
   "source": [
    "sns.pairplot(df,x_vars=['Latitude','Longitude','ATMAX','ATMIN','humidity','pressure','tempmax','tempmin'],y_vars='Yield',size=7,aspect=0.7,kind='reg')"
   ]
  },
  {
   "cell_type": "code",
   "execution_count": 11,
   "metadata": {},
   "outputs": [],
   "source": [
    "X = df.iloc[:, :-1]\n",
    "y = df.iloc[:,8]"
   ]
  },
  {
   "cell_type": "code",
   "execution_count": 12,
   "metadata": {},
   "outputs": [],
   "source": [
    "X=X.fillna(0)"
   ]
  },
  {
   "cell_type": "code",
   "execution_count": 13,
   "metadata": {},
   "outputs": [
    {
     "data": {
      "text/plain": [
       "Latitude     0\n",
       "Longitude    0\n",
       "ATMAX        0\n",
       "ATMIN        0\n",
       "humidity     0\n",
       "pressure     0\n",
       "tempmax      0\n",
       "tempmin      0\n",
       "dtype: int64"
      ]
     },
     "execution_count": 13,
     "metadata": {},
     "output_type": "execute_result"
    }
   ],
   "source": [
    "X.isnull().sum()"
   ]
  },
  {
   "cell_type": "code",
   "execution_count": 14,
   "metadata": {},
   "outputs": [],
   "source": [
    "# split dataset\n",
    "from sklearn.model_selection import train_test_split\n",
    "X_train, X_test, y_train, y_test = train_test_split(X, y, test_size = 0.2, random_state = 0)"
   ]
  },
  {
   "cell_type": "code",
   "execution_count": 15,
   "metadata": {},
   "outputs": [
    {
     "name": "stdout",
     "output_type": "stream",
     "text": [
      "['Latitude', 'Longitude', 'ATMAX', 'ATMIN', 'humidity', 'pressure', 'tempmax', 'tempmin']\n"
     ]
    },
    {
     "name": "stderr",
     "output_type": "stream",
     "text": [
      "/home/kanhaiya/anaconda3/lib/python3.7/site-packages/ipykernel_launcher.py:9: SettingWithCopyWarning: \n",
      "A value is trying to be set on a copy of a slice from a DataFrame.\n",
      "Try using .loc[row_indexer,col_indexer] = value instead\n",
      "\n",
      "See the caveats in the documentation: https://pandas.pydata.org/pandas-docs/stable/user_guide/indexing.html#returning-a-view-versus-a-copy\n",
      "  if __name__ == '__main__':\n",
      "/home/kanhaiya/anaconda3/lib/python3.7/site-packages/pandas/core/frame.py:2969: SettingWithCopyWarning: \n",
      "A value is trying to be set on a copy of a slice from a DataFrame\n",
      "\n",
      "See the caveats in the documentation: https://pandas.pydata.org/pandas-docs/stable/user_guide/indexing.html#returning-a-view-versus-a-copy\n",
      "  self.loc._setitem_with_indexer((slice(None), indexer), value)\n",
      "/home/kanhaiya/anaconda3/lib/python3.7/site-packages/pandas/core/frame.py:2935: SettingWithCopyWarning: \n",
      "A value is trying to be set on a copy of a slice from a DataFrame\n",
      "\n",
      "See the caveats in the documentation: https://pandas.pydata.org/pandas-docs/stable/user_guide/indexing.html#returning-a-view-versus-a-copy\n",
      "  self._setitem_array(key, value)\n"
     ]
    }
   ],
   "source": [
    "from sklearn import preprocessing\n",
    "columns_to_scale = df.columns.tolist()\n",
    "columns_to_scale = [x for x in columns_to_scale if x != 'Yield']\n",
    "print(columns_to_scale)\n",
    "\n",
    "std_scaler = preprocessing.StandardScaler().fit(X_train[columns_to_scale])\n",
    "minmax_scaler = preprocessing.MinMaxScaler().fit(X_train[columns_to_scale])\n",
    "\n",
    "X_train[columns_to_scale] = std_scaler.transform(X_train[columns_to_scale])\n",
    "\n",
    "\n",
    "\n",
    "\n"
   ]
  },
  {
   "cell_type": "code",
   "execution_count": 16,
   "metadata": {},
   "outputs": [
    {
     "name": "stderr",
     "output_type": "stream",
     "text": [
      "/home/kanhaiya/anaconda3/lib/python3.7/site-packages/ipykernel_launcher.py:2: SettingWithCopyWarning: \n",
      "A value is trying to be set on a copy of a slice from a DataFrame.\n",
      "Try using .loc[row_indexer,col_indexer] = value instead\n",
      "\n",
      "See the caveats in the documentation: https://pandas.pydata.org/pandas-docs/stable/user_guide/indexing.html#returning-a-view-versus-a-copy\n",
      "  \n",
      "/home/kanhaiya/anaconda3/lib/python3.7/site-packages/pandas/core/frame.py:2969: SettingWithCopyWarning: \n",
      "A value is trying to be set on a copy of a slice from a DataFrame\n",
      "\n",
      "See the caveats in the documentation: https://pandas.pydata.org/pandas-docs/stable/user_guide/indexing.html#returning-a-view-versus-a-copy\n",
      "  self.loc._setitem_with_indexer((slice(None), indexer), value)\n",
      "/home/kanhaiya/anaconda3/lib/python3.7/site-packages/pandas/core/frame.py:2935: SettingWithCopyWarning: \n",
      "A value is trying to be set on a copy of a slice from a DataFrame\n",
      "\n",
      "See the caveats in the documentation: https://pandas.pydata.org/pandas-docs/stable/user_guide/indexing.html#returning-a-view-versus-a-copy\n",
      "  self._setitem_array(key, value)\n"
     ]
    }
   ],
   "source": [
    "# apply scaler on test set\n",
    "X_test[columns_to_scale] = std_scaler.transform(X_test[columns_to_scale])\n",
    "\n",
    "\n"
   ]
  },
  {
   "cell_type": "code",
   "execution_count": 17,
   "metadata": {},
   "outputs": [],
   "source": [
    "from sklearn.model_selection import cross_val_score\n",
    "cv_k = 5\n",
    "cv_scoring = 'neg_mean_squared_error'\n",
    "cv_scoring = 'r2'"
   ]
  },
  {
   "cell_type": "code",
   "execution_count": 18,
   "metadata": {},
   "outputs": [],
   "source": [
    "from sklearn.model_selection import KFold\n",
    "kf = KFold(n_splits=cv_k, shuffle=True)"
   ]
  },
  {
   "cell_type": "code",
   "execution_count": 19,
   "metadata": {},
   "outputs": [],
   "source": [
    "from sklearn import linear_model\n",
    "from sklearn.preprocessing import PolynomialFeatures\n",
    "from sklearn.ensemble import RandomForestRegressor\n",
    "from sklearn.ensemble import GradientBoostingRegressor\n",
    "from sklearn import neighbors\n",
    "from sklearn.svm import SVR"
   ]
  },
  {
   "cell_type": "code",
   "execution_count": 20,
   "metadata": {},
   "outputs": [
    {
     "name": "stdout",
     "output_type": "stream",
     "text": [
      "Accuracy: 0.25 (+/- 0.01)\n",
      "Exec. time:  0.40 s\n"
     ]
    }
   ],
   "source": [
    "import time\n",
    "# Linear regression\n",
    "now = time.time()\n",
    "est = linear_model.LinearRegression()\n",
    "est.fit(X_train, y_train)\n",
    "scores = cross_val_score(est, X_train, y_train, cv=kf, scoring=cv_scoring)\n",
    "print(\"Accuracy: %0.2f (+/- %0.2f)\" % (scores.mean(), scores.std() * 2))\n",
    "after = time.time()\n",
    "print('Exec. time: {:5.2f} s'.format(after-now))"
   ]
  },
  {
   "cell_type": "code",
   "execution_count": 21,
   "metadata": {},
   "outputs": [],
   "source": [
    "# Predicting the Test set results\n",
    "y_pred = est.predict(X_test)\n",
    "\n",
    "from sklearn.metrics import r2_score\n",
    "score=r2_score(y_test,y_pred)"
   ]
  },
  {
   "cell_type": "code",
   "execution_count": 22,
   "metadata": {},
   "outputs": [
    {
     "data": {
      "text/plain": [
       "0.25226490847754124"
      ]
     },
     "execution_count": 22,
     "metadata": {},
     "output_type": "execute_result"
    }
   ],
   "source": [
    "score"
   ]
  },
  {
   "cell_type": "code",
   "execution_count": 23,
   "metadata": {},
   "outputs": [],
   "source": [
    "#sns.pairplot(df,x_vars=y_test,y_vars=pred,size=7,aspect=0.7,kind='reg')"
   ]
  },
  {
   "cell_type": "code",
   "execution_count": 24,
   "metadata": {},
   "outputs": [
    {
     "name": "stdout",
     "output_type": "stream",
     "text": [
      "Accuracy: 0.25 (+/- 0.01)\n",
      "Exec. time:  0.42 s\n"
     ]
    }
   ],
   "source": [
    "# Linear regression with L2 regularization\n",
    "now = time.time()\n",
    "est1 = linear_model.Ridge(alpha = 1.0)\n",
    "est1.fit(X_train, y_train)\n",
    "scores = cross_val_score(est1, X_train, y_train, cv=kf, scoring=cv_scoring)\n",
    "print(\"Accuracy: %0.2f (+/- %0.2f)\" % (scores.mean(), scores.std() * 2))\n",
    "after = time.time()\n",
    "print('Exec. time: {:5.2f} s'.format(after-now))"
   ]
  },
  {
   "cell_type": "code",
   "execution_count": null,
   "metadata": {},
   "outputs": [],
   "source": []
  },
  {
   "cell_type": "code",
   "execution_count": 25,
   "metadata": {},
   "outputs": [
    {
     "name": "stdout",
     "output_type": "stream",
     "text": [
      "Accuracy: 0.31 (+/- 0.01)\n",
      "Exec. time:  1.72 s\n"
     ]
    }
   ],
   "source": [
    "# Polynomial regression\n",
    "now = time.time()\n",
    "poly = PolynomialFeatures(degree=2)\n",
    "X_train_poly = poly.fit_transform(X_train)\n",
    "est2 = linear_model.LinearRegression()\n",
    "scores = cross_val_score(est2, X_train_poly, y_train, cv=kf, scoring=cv_scoring)\n",
    "print(\"Accuracy: %0.2f (+/- %0.2f)\" % (scores.mean(), scores.std() * 2))\n",
    "after = time.time()\n",
    "print('Exec. time: {:5.2f} s'.format(after-now))"
   ]
  },
  {
   "cell_type": "code",
   "execution_count": 26,
   "metadata": {},
   "outputs": [
    {
     "name": "stdout",
     "output_type": "stream",
     "text": [
      "Accuracy: 0.31 (+/- 0.00)\n",
      "Exec. time:  0.64 s\n"
     ]
    }
   ],
   "source": [
    "# Polynomial regression with regularization\n",
    "now = time.time()\n",
    "poly = PolynomialFeatures(degree=2)\n",
    "X_train_poly = poly.fit_transform(X_train)\n",
    "est3 = linear_model.Ridge(alpha = 1.0)\n",
    "scores = cross_val_score(est3, X_train_poly, y_train, cv=kf, scoring=cv_scoring)\n",
    "print(\"Accuracy: %0.2f (+/- %0.2f)\" % (scores.mean(), scores.std() * 2))\n",
    "after = time.time()\n",
    "print('Exec. time: {:5.2f} s'.format(after-now))"
   ]
  },
  {
   "cell_type": "code",
   "execution_count": 27,
   "metadata": {},
   "outputs": [
    {
     "name": "stdout",
     "output_type": "stream",
     "text": [
      "Accuracy: 1.0000 (+/- 0.0000)\n",
      "Exec. time: 21.33 s\n"
     ]
    }
   ],
   "source": [
    "# Random forest regression\n",
    "now = time.time()\n",
    "est_best = RandomForestRegressor(n_estimators=10, n_jobs=-1)\n",
    "est_best.fit(X_train, y_train)\n",
    "scores = cross_val_score(est_best, X_train, y_train, cv=kf, scoring=cv_scoring)\n",
    "print(\"Accuracy: %0.4f (+/- %0.4f)\" % (scores.mean(), scores.std() * 2))\n",
    "after = time.time()\n",
    "print('Exec. time: {:5.2f} s'.format(after-now))"
   ]
  },
  {
   "cell_type": "code",
   "execution_count": 28,
   "metadata": {},
   "outputs": [],
   "source": [
    "# Predicting the Test set results\n",
    "y_pred = est_best.predict(X_test)\n",
    "\n",
    "from sklearn.metrics import r2_score\n",
    "score=r2_score(y_test,y_pred)"
   ]
  },
  {
   "cell_type": "code",
   "execution_count": 29,
   "metadata": {},
   "outputs": [
    {
     "data": {
      "text/plain": [
       "0.9999972734966284"
      ]
     },
     "execution_count": 29,
     "metadata": {},
     "output_type": "execute_result"
    }
   ],
   "source": [
    "score"
   ]
  },
  {
   "cell_type": "code",
   "execution_count": 30,
   "metadata": {},
   "outputs": [
    {
     "data": {
      "text/plain": [
       "30.0"
      ]
     },
     "execution_count": 30,
     "metadata": {},
     "output_type": "execute_result"
    }
   ],
   "source": [
    "y_pred[10]"
   ]
  },
  {
   "cell_type": "code",
   "execution_count": 31,
   "metadata": {},
   "outputs": [
    {
     "data": {
      "text/plain": [
       "30.0"
      ]
     },
     "execution_count": 31,
     "metadata": {},
     "output_type": "execute_result"
    }
   ],
   "source": [
    "y_test[10]"
   ]
  },
  {
   "cell_type": "code",
   "execution_count": 32,
   "metadata": {},
   "outputs": [
    {
     "data": {
      "text/plain": [
       "33.9"
      ]
     },
     "execution_count": 32,
     "metadata": {},
     "output_type": "execute_result"
    }
   ],
   "source": [
    "y_test[100]"
   ]
  },
  {
   "cell_type": "code",
   "execution_count": 33,
   "metadata": {},
   "outputs": [
    {
     "data": {
      "text/plain": [
       "33.9"
      ]
     },
     "execution_count": 33,
     "metadata": {},
     "output_type": "execute_result"
    }
   ],
   "source": [
    "y_test[100]"
   ]
  },
  {
   "cell_type": "code",
   "execution_count": null,
   "metadata": {},
   "outputs": [],
   "source": []
  },
  {
   "cell_type": "code",
   "execution_count": null,
   "metadata": {},
   "outputs": [],
   "source": []
  },
  {
   "cell_type": "code",
   "execution_count": 34,
   "metadata": {},
   "outputs": [
    {
     "name": "stdout",
     "output_type": "stream",
     "text": [
      "Accuracy: 0.75 (+/- 0.00)\n",
      "Exec. time:  6.97 s\n"
     ]
    }
   ],
   "source": [
    "# Nearest neighbor regression\n",
    "now = time.time()\n",
    "n_neighbors = 5\n",
    "weight = 'uniform' # 'distance'\n",
    "est4 = neighbors.KNeighborsRegressor(n_neighbors, weights=weight, n_jobs=-1)\n",
    "est4.fit(X_train, y_train)\n",
    "scores = cross_val_score(est4, X_train, y_train, cv=kf, scoring=cv_scoring)\n",
    "print(\"Accuracy: %0.2f (+/- %0.2f)\" % (scores.mean(), scores.std() * 2))\n",
    "after = time.time()\n",
    "print('Exec. time: {:5.2f} s'.format(after-now))"
   ]
  },
  {
   "cell_type": "code",
   "execution_count": 35,
   "metadata": {},
   "outputs": [],
   "source": [
    "# Predicting the Test set results\n",
    "y_pred = est4.predict(X_test)\n",
    "\n",
    "from sklearn.metrics import r2_score\n",
    "score=r2_score(y_test,y_pred)"
   ]
  },
  {
   "cell_type": "code",
   "execution_count": 36,
   "metadata": {},
   "outputs": [
    {
     "data": {
      "text/plain": [
       "0.7837261912626291"
      ]
     },
     "execution_count": 36,
     "metadata": {},
     "output_type": "execute_result"
    }
   ],
   "source": [
    "score"
   ]
  },
  {
   "cell_type": "code",
   "execution_count": 37,
   "metadata": {},
   "outputs": [
    {
     "data": {
      "text/plain": [
       "array([43.36, 26.42, 34.9 , ..., 42.74, 40.38, 40.08])"
      ]
     },
     "execution_count": 37,
     "metadata": {},
     "output_type": "execute_result"
    }
   ],
   "source": [
    "y_pred"
   ]
  },
  {
   "cell_type": "code",
   "execution_count": 38,
   "metadata": {},
   "outputs": [
    {
     "data": {
      "text/plain": [
       "102981    42.2\n",
       "30150     29.3\n",
       "145055    34.9\n",
       "124736    46.0\n",
       "147332    46.0\n",
       "          ... \n",
       "40088     21.4\n",
       "51768     36.2\n",
       "67379     53.0\n",
       "24761     39.3\n",
       "180278    43.8\n",
       "Name: Yield, Length: 36510, dtype: float64"
      ]
     },
     "execution_count": 38,
     "metadata": {},
     "output_type": "execute_result"
    }
   ],
   "source": [
    "y_test[:]\n"
   ]
  },
  {
   "cell_type": "code",
   "execution_count": null,
   "metadata": {},
   "outputs": [],
   "source": []
  },
  {
   "cell_type": "code",
   "execution_count": null,
   "metadata": {},
   "outputs": [],
   "source": []
  }
 ],
 "metadata": {
  "kernelspec": {
   "display_name": "Python 3",
   "language": "python",
   "name": "python3"
  },
  "language_info": {
   "codemirror_mode": {
    "name": "ipython",
    "version": 3
   },
   "file_extension": ".py",
   "mimetype": "text/x-python",
   "name": "python",
   "nbconvert_exporter": "python",
   "pygments_lexer": "ipython3",
   "version": "3.7.6"
  }
 },
 "nbformat": 4,
 "nbformat_minor": 4
}
